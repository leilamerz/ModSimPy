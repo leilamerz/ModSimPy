{
 "cells": [
  {
   "cell_type": "markdown",
   "metadata": {},
   "source": [
    "Question:\n",
    "How does increased life expectancy impact population and age demographics?"
   ]
  },
  {
   "cell_type": "code",
   "execution_count": 62,
   "metadata": {},
   "outputs": [],
   "source": [
    "# Configure Jupyter so figures appear in the notebook\n",
    "%matplotlib inline\n",
    "\n",
    "# Configure Jupyter to display the assigned value after an assignment\n",
    "%config InteractiveShell.ast_node_interactivity='last_expr_or_assign'\n",
    "\n",
    "# import functions from the modsim.py module\n",
    "from modsim import *"
   ]
  },
  {
   "cell_type": "code",
   "execution_count": 63,
   "metadata": {},
   "outputs": [],
   "source": [
    "#read csv file that contains our data for world population, life expectancy, and fertility rate\n",
    "from pandas import read_csv\n",
    "filename = 'project1data.csv'\n",
    "tables = read_csv(filename, header=0, index_col=0, decimal='M');"
   ]
  },
  {
   "cell_type": "code",
   "execution_count": 76,
   "metadata": {},
   "outputs": [],
   "source": [
    "def plot_results(un, ts_young, ts_middle, timeseries, title):\n",
    "    \"\"\"Plot the estimates and the model.\n",
    "    un: TimeSeries of population estimates\n",
    "    timeseries: TimeSeries of simulation results\n",
    "    title: string\n",
    "    \"\"\"\n",
    "    plot(un, '--', label='UN DESA')\n",
    "    plot(ts_young, color='blue', label='ages 0-14')\n",
    "    plot(ts_middle, color='black', label='ages 15-44')\n",
    "    plot(timeseries, color='green', label='ages 45+')\n",
    "    \n",
    "    decorate(xlabel='Year', \n",
    "             ylabel='World population (billion)',\n",
    "             title=title)"
   ]
  },
  {
   "cell_type": "code",
   "execution_count": 65,
   "metadata": {},
   "outputs": [],
   "source": [
    "#Our notebook was confused by decimals so within our data set we multiplied our numbers by 1000 \n",
    "#in order to get rid of the decimals, so we then had to divide by 1000\n",
    "life_expectancy = tables._expectancyx1000/1000\n",
    "birth_rate = tables.birthrate10000/10000\n",
    "fer_rate = tables.fer_ratex1000/1000\n",
    "un = tables.UN / 1e9;"
   ]
  },
  {
   "cell_type": "code",
   "execution_count": 66,
   "metadata": {},
   "outputs": [],
   "source": [
    "young = get_first_value(un) * 0.378\n",
    "old= get_first_value(un) * 0.2\n",
    "middle = get_first_value(un)*0.422\n",
    "init = State(young=young, middle=middle, old=old);"
   ]
  },
  {
   "cell_type": "code",
   "execution_count": 67,
   "metadata": {
    "scrolled": true
   },
   "outputs": [],
   "source": [
    "death_rate = 1/((life_expectancy)-44)\n",
    "birth_rate = fer_rate/(31*2);\n",
    "#children per woman in her fer age per year"
   ]
  },
  {
   "cell_type": "code",
   "execution_count": 68,
   "metadata": {},
   "outputs": [],
   "source": [
    "system = System(mature_rate = 1/14,\n",
    "                elder_rate = 1/31,\n",
    "                t_0 = 1965,\n",
    "                t_end = 2016,\n",
    "                init=init);"
   ]
  },
  {
   "cell_type": "code",
   "execution_count": 69,
   "metadata": {},
   "outputs": [],
   "source": [
    "def update_func1(state, t, system):\n",
    "    birth_rate2 = birth_rate[t]\n",
    "    births = birth_rate2*state.middle\n",
    "    maturings = system.mature_rate * state.young\n",
    "    agings = system.elder_rate * state.middle\n",
    "    death_rate2 = death_rate[t]\n",
    "    deaths = death_rate2 * state.old\n",
    "    young = state.young + births - maturings\n",
    "    middle = state.middle + maturings - agings\n",
    "    old = state.old + agings - deaths\n",
    "    \n",
    "    return State(young=young, middle=middle, old=old)\n",
    "    "
   ]
  },
  {
   "cell_type": "code",
   "execution_count": 70,
   "metadata": {},
   "outputs": [
    {
     "data": {
      "text/html": [
       "<div>\n",
       "<style scoped>\n",
       "    .dataframe tbody tr th:only-of-type {\n",
       "        vertical-align: middle;\n",
       "    }\n",
       "\n",
       "    .dataframe tbody tr th {\n",
       "        vertical-align: top;\n",
       "    }\n",
       "\n",
       "    .dataframe thead th {\n",
       "        text-align: right;\n",
       "    }\n",
       "</style>\n",
       "<table border=\"1\" class=\"dataframe\">\n",
       "  <thead>\n",
       "    <tr style=\"text-align: right;\">\n",
       "      <th></th>\n",
       "      <th>values</th>\n",
       "    </tr>\n",
       "  </thead>\n",
       "  <tbody>\n",
       "    <tr>\n",
       "      <th>young</th>\n",
       "      <td>1.282386</td>\n",
       "    </tr>\n",
       "    <tr>\n",
       "      <th>middle</th>\n",
       "      <td>1.449457</td>\n",
       "    </tr>\n",
       "    <tr>\n",
       "      <th>old</th>\n",
       "      <td>0.639248</td>\n",
       "    </tr>\n",
       "  </tbody>\n",
       "</table>\n",
       "</div>"
      ],
      "text/plain": [
       "young     1.282386\n",
       "middle    1.449457\n",
       "old       0.639248\n",
       "dtype: float64"
      ]
     },
     "execution_count": 70,
     "metadata": {},
     "output_type": "execute_result"
    }
   ],
   "source": [
    "state = update_func1(init, system.t_0, system)"
   ]
  },
  {
   "cell_type": "code",
   "execution_count": 71,
   "metadata": {},
   "outputs": [],
   "source": [
    "state = update_func1(state, system.t_0, system);"
   ]
  },
  {
   "cell_type": "code",
   "execution_count": 72,
   "metadata": {},
   "outputs": [],
   "source": [
    "def run_simulation(system, update_func):\n",
    "    \"\"\"Simulate the system using any update function.\n",
    "    \n",
    "    init: initial State object\n",
    "    system: System object\n",
    "    update_func: function that computes the population next year\n",
    "    \n",
    "    returns: TimeSeries\n",
    "    \"\"\"\n",
    "    results = TimeSeries()\n",
    "    results_young = TimeSeries()\n",
    "    results_middle = TimeSeries()\n",
    "    \n",
    "    state = system.init\n",
    "    results[system.t_0] = state.young + state.middle + state.old\n",
    "    \n",
    "    for t in linrange(system.t_0, system.t_end):\n",
    "        state = update_func(state, t, system)\n",
    "        results[t+1] = state.young + state.middle + state.old\n",
    "        results_young[t+1] = state.young\n",
    "        results_middle[t+1] = state.young + state.middle\n",
    "        \n",
    "    return results, results_young, results_middle"
   ]
  },
  {
   "cell_type": "code",
   "execution_count": 77,
   "metadata": {
    "scrolled": true
   },
   "outputs": [
    {
     "data": {
      "image/png": "[encoded data removed]",
      "text/plain": [
       "<Figure size 432x288 with 1 Axes>"
      ]
     },
     "metadata": {
      "needs_background": "light"
     },
     "output_type": "display_data"
    }
   ],
   "source": [
    "results = run_simulation(system, update_func1)[0];\n",
    "results_young = run_simulation(system, update_func1)[1];\n",
    "results_middle = run_simulation(system, update_func1)[2];\n",
    "plot_results(un, results_young, results_middle, results, 'World population estimates')"
   ]
  },
  {
   "cell_type": "code",
   "execution_count": null,
   "metadata": {},
   "outputs": [],
   "source": []
  },
  {
   "cell_type": "markdown",
   "metadata": {},
   "source": [
    "Interpretation:\n"
   ]
  }
 ],
 "metadata": {
  "kernelspec": {
   "display_name": "Python 3",
   "language": "python",
   "name": "python3"
  },
  "language_info": {
   "codemirror_mode": {
    "name": "ipython",
    "version": 3
   },
   "file_extension": ".py",
   "mimetype": "text/x-python",
   "name": "python",
   "nbconvert_exporter": "python",
   "pygments_lexer": "ipython3",
   "version": "3.6.6"
  }
 },
 "nbformat": 4,
 "nbformat_minor": 2
}
