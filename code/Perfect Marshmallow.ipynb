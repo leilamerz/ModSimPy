{
 "cells": [
  {
   "cell_type": "markdown",
   "metadata": {},
   "source": [
    "dQ/dt=(kA(T2-T1))/d\n",
    "T=Q/mc\n",
    "Q=heat transfered\n",
    "k=thermal conductivity\n",
    "A=surface area\n",
    "T1=first temp\n",
    "T2=second temp\n",
    "d=thickness\n",
    "m=mass\n",
    "Cmarshmallow=specific heat\n",
    "Cair"
   ]
  },
  {
   "cell_type": "code",
   "execution_count": 43,
   "metadata": {},
   "outputs": [],
   "source": [
    "# Configure Jupyter so figures appear in the notebook\n",
    "%matplotlib inline\n",
    "\n",
    "# Configure Jupyter to display the assigned value after an assignment\n",
    "%config InteractiveShell.ast_node_interactivity='last_expr_or_assign'\n",
    "\n",
    "# import functions from the modsim.py module\n",
    "from modsim import *"
   ]
  },
  {
   "cell_type": "markdown",
   "metadata": {},
   "source": [
    "Here we are defining the values of our initial state"
   ]
  },
  {
   "cell_type": "code",
   "execution_count": 50,
   "metadata": {},
   "outputs": [
    {
     "data": {
      "text/plain": [
       "290.0"
      ]
     },
     "execution_count": 50,
     "metadata": {},
     "output_type": "execute_result"
    }
   ],
   "source": [
    "eTemp=360\n",
    "#360*2.33*2.02\n",
    "#oTemp=mTemp=iTemp=290\n",
    "#outer=middle=inner=(2.33*2.02)*oTemp\n",
    "290*(2.33*2.02)\n",
    "1364.914/(2.33*2.02)"
   ]
  },
  {
   "cell_type": "markdown",
   "metadata": {},
   "source": [
    "Haven't yet figured out how to include this into the code,\n",
    "we will eventually make it a sweep, \n",
    "I just hard-coded these values for now\n",
    "\n",
    "The energy and tempurature of each sub-section are each a stock, \n",
    "   because they all effect eachother and need to be calculated over time.\n",
    "   The mass of each ring in the marshmallow is the same, and the thickness and area are based on that.\n",
    "   We used the conductivity of bread as a proxy for that of a marshmallow. \n",
    "   We were able to find data of the specific heat of a marshmallow."
   ]
  },
  {
   "cell_type": "code",
   "execution_count": 51,
   "metadata": {},
   "outputs": [],
   "source": [
    "def make_system(eTemp):\n",
    "   \n",
    "    init = State(outer=1364.914, middle=1364.914, inner=1364.914, \n",
    "                 oTemp=290, mTemp=290, iTemp=290)\n",
    "    dt=0.1\n",
    "    conductivity=0.1\n",
    "    areaOuter=0.004054\n",
    "    areaMiddle=0.003091\n",
    "    areaInner=0.001946\n",
    "    thicknessOuter=0.00161\n",
    "    thicknessMiddle=0.00229\n",
    "    thicknessInner=0.0088\n",
    "    mass=2.33\n",
    "    specificMarshmallow=2.02\n",
    "    t0=0\n",
    "    t_end=1000\n",
    "\n",
    "    \n",
    "    return System(init=init, dt=dt, conductivity=conductivity, \n",
    "                  areaOuter=areaOuter, areaMiddle=areaMiddle, \n",
    "                  areaInner=areaInner, thicknessOuter=thicknessOuter, \n",
    "                  thicknessMiddle=thicknessMiddle, \n",
    "                  thicknessInner=thicknessInner, mass=mass, \n",
    "                  specificMarshmallow=specificMarshmallow, t0=t0, t_end=t_end)"
   ]
  },
  {
   "cell_type": "code",
   "execution_count": 52,
   "metadata": {},
   "outputs": [],
   "source": [
    "def update_func(state, t, system):\n",
    "    \"\"\"Updates the energy in the sections, then based on this calculates and stores the temperature of each section\n",
    "    \"\"\"\n",
    "    outer, middle, inner, oTemp, mTemp, iTemp = state\n",
    "    unpack(system)\n",
    "    dQdt1 = (conductivity*areaOuter*(eTemp-oTemp))/thicknessOuter #W/mK*m^2*K/m = W\n",
    "    dQdt2 = (conductivity*areaMiddle*(oTemp-mTemp))/thicknessMiddle\n",
    "    dQdt3 = (conductivity*areaInner*(mTemp-iTemp))/thicknessInner\n",
    "    #dTdtinner = dQdt3/(mass*specificMarshmallow) #energy/(kg*energy/(kg*K)) = K\n",
    "    #dTdtmiddle = dQdt2/(mass*specificMarshmallow)\n",
    "    #dTdtouter = dQdt1/(mass*specificMarshmallow)\n",
    "    \n",
    "    outer += (dQdt1 - dQdt2)*dt\n",
    "    middle += (dQdt2 - dQdt3)*dt\n",
    "    inner += (dQdt3)*dt\n",
    "    \n",
    "    #oTemp += dTdtouter*dt\n",
    "    #mTemp += dTdtmiddle*dt\n",
    "    #iTemp += dTdtinner*dt\n",
    "    iTemp = inner/(mass*specificMarshmallow) #energy/(kg*energy/(kg*K)) = K\n",
    "    mTemp = middle/(mass*specificMarshmallow)\n",
    "    oTemp = outer/(mass*specificMarshmallow)\n",
    " \n",
    "    return State(outer=outer, middle=middle, inner=inner, oTemp=oTemp, mTemp=mTemp, iTemp=iTemp)"
   ]
  },
  {
   "cell_type": "code",
   "execution_count": null,
   "metadata": {},
   "outputs": [],
   "source": []
  },
  {
   "cell_type": "code",
   "execution_count": 53,
   "metadata": {},
   "outputs": [],
   "source": [
    "def run_simulation(system, update_func):\n",
    "    \"\"\"Runs a simulation of the system.\n",
    "        \n",
    "    system: System object\n",
    "    update_func: function that updates state\n",
    "    \n",
    "    returns: TimeFrame\n",
    "    \"\"\"\n",
    "    unpack(system)\n",
    "    \n",
    "    frame = TimeFrame(columns=init.index)\n",
    "    frame.row[t0] = init\n",
    "    \n",
    "    for t in linrange(t0, t_end, dt):\n",
    "        frame.row[t+dt] = update_func(frame.row[t], t, system)\n",
    "    \n",
    "    return frame"
   ]
  },
  {
   "cell_type": "code",
   "execution_count": 54,
   "metadata": {},
   "outputs": [],
   "source": [
    "def plot_results(oTemp, mTemp, iTemp):\n",
    "    \n",
    "    plot(oTemp, '--', label='Outer Temp')\n",
    "    plot(mTemp, '-', label='Middle Temp')\n",
    "    plot(iTemp, '-', label='Inner Temp')\n",
    "    decorate(xlabel='Time (seconds)',\n",
    "             ylabel='Tempurature(K)')"
   ]
  },
  {
   "cell_type": "code",
   "execution_count": null,
   "metadata": {},
   "outputs": [],
   "source": []
  },
  {
   "cell_type": "code",
   "execution_count": 55,
   "metadata": {},
   "outputs": [
    {
     "data": {
      "image/png": "[encoded data removed]",
      "text/plain": [
       "<Figure size 432x288 with 1 Axes>"
      ]
     },
     "metadata": {
      "needs_background": "light"
     },
     "output_type": "display_data"
    }
   ],
   "source": [
    "system = make_system(eTemp)\n",
    "results = run_simulation(system, update_func)\n",
    "\n",
    "plot_results(results.oTemp, results.mTemp, results.iTemp)"
   ]
  },
  {
   "cell_type": "code",
   "execution_count": null,
   "metadata": {},
   "outputs": [],
   "source": []
  },
  {
   "cell_type": "code",
   "execution_count": null,
   "metadata": {},
   "outputs": [],
   "source": []
  }
 ],
 "metadata": {
  "kernelspec": {
   "display_name": "Python 3",
   "language": "python",
   "name": "python3"
  },
  "language_info": {
   "codemirror_mode": {
    "name": "ipython",
    "version": 3
   },
   "file_extension": ".py",
   "mimetype": "text/x-python",
   "name": "python",
   "nbconvert_exporter": "python",
   "pygments_lexer": "ipython3",
   "version": "3.6.6"
  }
 },
 "nbformat": 4,
 "nbformat_minor": 2
}
