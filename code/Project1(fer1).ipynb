{
 "cells": [
  {
   "cell_type": "markdown",
   "metadata": {},
   "source": [
    "Question:\n",
    "How does increased medical capabilities impact population growth, specifically around age demographics?\n",
    "\n",
    "In order to answer this question, we used life expectancy as a proxy for increased medical capabilities."
   ]
  },
  {
   "cell_type": "code",
   "execution_count": 113,
   "metadata": {},
   "outputs": [],
   "source": [
    "# Configure Jupyter so figures appear in the notebook\n",
    "%matplotlib inline\n",
    "\n",
    "# Configure Jupyter to display the assigned value after an assignment\n",
    "%config InteractiveShell.ast_node_interactivity='last_expr_or_assign'\n",
    "\n",
    "# import functions from the modsim.py module\n",
    "from modsim import *"
   ]
  },
  {
   "cell_type": "code",
   "execution_count": 114,
   "metadata": {},
   "outputs": [],
   "source": [
    "#read csv file that contains our data for world population, life expectancy, and fertility rate\n",
    "from pandas import read_csv\n",
    "filename = 'project1data.csv'\n",
    "tables = read_csv(filename, header=0, index_col=0, decimal='M');"
   ]
  },
  {
   "cell_type": "code",
   "execution_count": 125,
   "metadata": {},
   "outputs": [],
   "source": [
    "def plot_results(un, ts_young, ts_middle, ts_old, timeseries, title):\n",
    "    \"\"\"Plot the estimates and the model.\n",
    "    un: TimeSeries of population estimates\n",
    "    timeseries: TimeSeries of simulation results\n",
    "    title: string\n",
    "    \"\"\"\n",
    "    plot(un, '--', label='UN DESA')\n",
    "    plot(ts_young, color='blue', label='ages 0-14')\n",
    "    plot(ts_middle, color='black', label='ages 15-44')\n",
    "    plot(ts_old, color='green', label='ages 45+')\n",
    "    plot(timeseries, color='gray', label='total')\n",
    "    \n",
    "    decorate(xlabel='Year', \n",
    "             ylabel='World population (billion)',\n",
    "             title=title)"
   ]
  },
  {
   "cell_type": "markdown",
   "metadata": {},
   "source": [
    "Our notebook was confused by decimals so within our data set we \n",
    "multiplied our numbers by 1000 in order to get rid of the decimals, \n",
    "so we then had to divide by 1000"
   ]
  },
  {
   "cell_type": "code",
   "execution_count": 126,
   "metadata": {},
   "outputs": [],
   "source": [
    "life_expectancy = tables._expectancyx1000/1000\n",
    "birth_rate = tables.birthrate10000/10000\n",
    "fer_rate = tables.fer_ratex1000/1000\n",
    "un = tables.UN / 1e9; #In billions"
   ]
  },
  {
   "cell_type": "markdown",
   "metadata": {},
   "source": [
    "In order to divide the population into young middle and old, \n",
    "we found the global age demographics in 1965: 37.8% under 15, \n",
    "42.2% between 15 and 44, and 20% 45 and older."
   ]
  },
  {
   "cell_type": "code",
   "execution_count": 127,
   "metadata": {},
   "outputs": [],
   "source": [
    "young = get_first_value(un) * 0.378\n",
    "old= get_first_value(un) * 0.2\n",
    "middle = get_first_value(un)*0.422\n",
    "init = State(young=young, middle=middle, old=old);"
   ]
  },
  {
   "cell_type": "markdown",
   "metadata": {},
   "source": [
    "We said that 1 divided by the age range of elderly people would be the death rate, assuming that every person dies at their life expectancy. \n",
    "\n",
    "Similarily, we took data for fertility rates and divided it by the age range of the middle group, specifically for women, because this is the time when they could be having kids."
   ]
  },
  {
   "cell_type": "code",
   "execution_count": null,
   "metadata": {},
   "outputs": [],
   "source": [
    "death_rate = 1/((life_expectancy)-44)\n",
    "birth_rate = fer_rate/(31*2);\n",
    "#children per woman in her fer age per year"
   ]
  },
  {
   "cell_type": "markdown",
   "metadata": {},
   "source": [
    "To determine how many people mature from kids to adults, we took one divided by the youngest age range, and people go from the middle to oldest group at a rate of one divided by the middle age group."
   ]
  },
  {
   "cell_type": "code",
   "execution_count": 128,
   "metadata": {},
   "outputs": [],
   "source": [
    "system = System(mature_rate = 1/14,\n",
    "                elder_rate = 1/31,\n",
    "                t_0 = 1965,\n",
    "                t_end = 2016,\n",
    "                init=init);"
   ]
  },
  {
   "cell_type": "markdown",
   "metadata": {},
   "source": [
    "In our update function, we used the middle population, the ones who are giving birth, to determine the numbers of births, and add the newborn to the young pop. Deaths are determined by the old age group and are subtracted from that group. It also determines, using the mature and elder rates, what percent of each group moves from young to middle and middle to old."
   ]
  },
  {
   "cell_type": "code",
   "execution_count": 129,
   "metadata": {},
   "outputs": [],
   "source": [
    "def update_func1(state, t, system):\n",
    "    birth_rate2 = birth_rate[t] #calls on birth rate defined earlier based on fertility rates over time\n",
    "    births = birth_rate2*state.middle #determines how many people are born based on the birth rate times the middle age group\n",
    "    maturings = system.mature_rate * state.young #determines how many people mature from the young pop to middle pop\n",
    "    agings = system.elder_rate * state.middle #determines how many people age from middle to old pop\n",
    "    death_rate2 = death_rate[t] #calls on death rate defined earlier based on life expectancy data over time\n",
    "    deaths = death_rate2 * state.old  #determines how many people die based on the death rate times the old age group\n",
    "    young = state.young + births - maturings #the updated young population adds the newborns and subtracts those who matured\n",
    "    middle = state.middle + maturings - agings #the updated middle population adds the matured and subtracts those who grew old\n",
    "    old = state.old + agings - deaths #the updated old population adds those who grew old and subtracts those who died\n",
    "    \n",
    "    return State(young=young, middle=middle, old=old)\n",
    "    "
   ]
  },
  {
   "cell_type": "code",
   "execution_count": 130,
   "metadata": {},
   "outputs": [
    {
     "data": {
      "text/html": [
       "<div>\n",
       "<style scoped>\n",
       "    .dataframe tbody tr th:only-of-type {\n",
       "        vertical-align: middle;\n",
       "    }\n",
       "\n",
       "    .dataframe tbody tr th {\n",
       "        vertical-align: top;\n",
       "    }\n",
       "\n",
       "    .dataframe thead th {\n",
       "        text-align: right;\n",
       "    }\n",
       "</style>\n",
       "<table border=\"1\" class=\"dataframe\">\n",
       "  <thead>\n",
       "    <tr style=\"text-align: right;\">\n",
       "      <th></th>\n",
       "      <th>values</th>\n",
       "    </tr>\n",
       "  </thead>\n",
       "  <tbody>\n",
       "    <tr>\n",
       "      <th>young</th>\n",
       "      <td>1.282386</td>\n",
       "    </tr>\n",
       "    <tr>\n",
       "      <th>middle</th>\n",
       "      <td>1.449457</td>\n",
       "    </tr>\n",
       "    <tr>\n",
       "      <th>old</th>\n",
       "      <td>0.639248</td>\n",
       "    </tr>\n",
       "  </tbody>\n",
       "</table>\n",
       "</div>"
      ],
      "text/plain": [
       "young     1.282386\n",
       "middle    1.449457\n",
       "old       0.639248\n",
       "dtype: float64"
      ]
     },
     "execution_count": 130,
     "metadata": {},
     "output_type": "execute_result"
    }
   ],
   "source": [
    "state = update_func1(init, system.t_0, system)"
   ]
  },
  {
   "cell_type": "code",
   "execution_count": 131,
   "metadata": {},
   "outputs": [],
   "source": [
    "state = update_func1(state, system.t_0, system);"
   ]
  },
  {
   "cell_type": "code",
   "execution_count": 132,
   "metadata": {},
   "outputs": [],
   "source": [
    "def run_simulation(system, update_func):\n",
    "    \"\"\"Simulate the system using any update function.\n",
    "    \n",
    "    init: initial State object\n",
    "    system: System object\n",
    "    update_func: function that computes the population next year\n",
    "    \n",
    "    returns: TimeSeries\n",
    "    \"\"\"\n",
    "    results = TimeSeries()\n",
    "    results_young = TimeSeries()\n",
    "    results_middle = TimeSeries()\n",
    "    results_old = TimeSeries()\n",
    "    \n",
    "    state = system.init\n",
    "    results[system.t_0] = state.young + state.middle + state.old\n",
    "    \n",
    "    for t in linrange(system.t_0, system.t_end):\n",
    "        state = update_func(state, t, system)\n",
    "        results[t+1] = state.young + state.middle + state.old\n",
    "        results_young[t+1] = state.young\n",
    "        results_middle[t+1] =state.middle\n",
    "        results_old[t+1] =state.old\n",
    "        \n",
    "    return results, results_young, results_middle, results_old"
   ]
  },
  {
   "cell_type": "code",
   "execution_count": 133,
   "metadata": {
    "scrolled": true
   },
   "outputs": [
    {
     "data": {
      "image/png": "[encoded data removed]",
      "text/plain": [
       "<Figure size 432x288 with 1 Axes>"
      ]
     },
     "metadata": {
      "needs_background": "light"
     },
     "output_type": "display_data"
    }
   ],
   "source": [
    "results = run_simulation(system, update_func1)[0];\n",
    "results_young = run_simulation(system, update_func1)[1];\n",
    "results_middle = run_simulation(system, update_func1)[2];\n",
    "results_old = run_simulation(system, update_func1)[3];\n",
    "plot_results(un, results_young, results_middle, results_old, results, 'World population estimates')"
   ]
  },
  {
   "cell_type": "markdown",
   "metadata": {},
   "source": [
    "Results:\n",
    "As the life expectancy gets bigger, the youngest age group levels off as the other groups get more population. The elder group population grows fastest. The curves of young and aged population are even going to intersect."
   ]
  },
  {
   "cell_type": "markdown",
   "metadata": {},
   "source": [
    "Interpretation:\n",
    "\n",
    "As the life expectancy gets longer, the old age group constantly grows bigger and the young population (or the birth rate) is actually decreasing.\n",
    "\n",
    "The model (added up 3 age groups) fits well with actual population, especially until around 1990, and the trends of age demographics shows that with the increased medical level, people have fewer children and can live longer.\n",
    "\n",
    "To make this model fit better after 1990, we would need to alter the ages in each age group, because as medical levels improve, older people can have kids and people die older, so the middle group should be larger and the older group should start older."
   ]
  },
  {
   "cell_type": "code",
   "execution_count": null,
   "metadata": {},
   "outputs": [],
   "source": []
  }
 ],
 "metadata": {
  "kernelspec": {
   "display_name": "Python 3",
   "language": "python",
   "name": "python3"
  },
  "language_info": {
   "codemirror_mode": {
    "name": "ipython",
    "version": 3
   },
   "file_extension": ".py",
   "mimetype": "text/x-python",
   "name": "python",
   "nbconvert_exporter": "python",
   "pygments_lexer": "ipython3",
   "version": "3.6.6"
  }
 },
 "nbformat": 4,
 "nbformat_minor": 2
}
