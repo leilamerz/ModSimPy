{
 "cells": [
  {
   "cell_type": "markdown",
   "metadata": {},
   "source": [
    "dQ/dt=(kA(T2-T1))/d\n",
    "T=mc/Q\n",
    "Q=heat transfered\n",
    "k=thermal conductivity\n",
    "A=surface area\n",
    "T1=first temp\n",
    "T2=second temp\n",
    "d=thickness\n",
    "m=mass\n",
    "c=specific heat"
   ]
  },
  {
   "cell_type": "code",
   "execution_count": null,
   "metadata": {},
   "outputs": [],
   "source": [
    "# Configure Jupyter so figures appear in the notebook\n",
    "%matplotlib inline\n",
    "\n",
    "# Configure Jupyter to display the assigned value after an assignment\n",
    "%config InteractiveShell.ast_node_interactivity='last_expr_or_assign'\n",
    "\n",
    "# import functions from the modsim.py module\n",
    "from modsim import *"
   ]
  },
  {
   "cell_type": "code",
   "execution_count": null,
   "metadata": {},
   "outputs": [],
   "source": [
    "def make_system(conductivity, areaOuter, areaMiddle, areaInner, thicknessOuter, thicknessMiddle, thicknessInner, mass, specific):\n",
    "    \"\"\"Make a system object for the SIR model.\n",
    "    \n",
    "    beta: contact rate in days\n",
    "    gamma: recovery rate in days\n",
    "    \n",
    "    returns: System object\n",
    "    \"\"\"\n",
    "    init = State(outer, middle, inner, oTemp, mTEmp, iTemp)\n",
    "    conductivity=0.1\n",
    "    areaOuter=0.0454\n",
    "    areaMiddle=0.0454\n",
    "    areaInner=0.0454\n",
    "    thicknessOuter=0\n",
    "    thicknessMiddle=0\n",
    "    thicknessInner=0\n",
    "    mass=2.33\n",
    "    specific=2.02\n",
    "    \n",
    "    return System(init=init, k=k, SA=SA, d=d)"
   ]
  },
  {
   "cell_type": "code",
   "execution_count": null,
   "metadata": {},
   "outputs": [],
   "source": [
    "def update_func(state, t, system):\n",
    "    \"\"\"Update the SIR model.\n",
    "    \n",
    "    state: State with variables S, I, R\n",
    "    t: time step\n",
    "    system: System with beta and gamma\n",
    "    \n",
    "    returns: State object\n",
    "    \"\"\"\n",
    "    outer, middle, inner, oTemp, mTemp, iTemp = state\n",
    "    unpack(system)\n",
    "\n",
    "    dQdt1 = (conductivity*areaMiddle*(oTemp-mTemp))/thicknessMiddle\n",
    "    dQdt2 = (conductivity*areaInner*(mTemp-iTemp))/thicknessInner\n",
    "    dTdtinner = (mass*specific)/inner\n",
    "    dTdtmiddle = (mass*specific)/middle\n",
    "    dTdtouter = (mass*specific)/outer\n",
    "    \n",
    "    outer += -dQdt1\n",
    "    middle += dQdt1 - dQdt2\n",
    "    inner += dQdt2\n",
    "    \n",
    "    oTemp += dTdtmiddle\n",
    "    mTemp += dTdtmiddle\n",
    "    iTemp += dTdtinner\n",
    "    \n",
    "    \n",
    "    return State(outer=outer, middle=middle inner=inner)"
   ]
  }
 ],
 "metadata": {
  "kernelspec": {
   "display_name": "Python 3",
   "language": "python",
   "name": "python3"
  },
  "language_info": {
   "codemirror_mode": {
    "name": "ipython",
    "version": 3
   },
   "file_extension": ".py",
   "mimetype": "text/x-python",
   "name": "python",
   "nbconvert_exporter": "python",
   "pygments_lexer": "ipython3",
   "version": "3.6.6"
  }
 },
 "nbformat": 4,
 "nbformat_minor": 2
}
